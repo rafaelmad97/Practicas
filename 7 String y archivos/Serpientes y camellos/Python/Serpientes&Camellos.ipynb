{
 "cells": [
  {
   "cell_type": "markdown",
   "metadata": {},
   "source": [
    "## __Serpientes y camellos__\n",
    "\n",
    "Cuando aprendimos a nombrar variables en nuestros programas vimos que debemos seguir las siguientes reglas:\n",
    "\n",
    ">    1. Debe iniciar con una letra como estatura, i, o x\n",
    ">    2. Puede contener números y el carácter _ como valor_1 o 2do_valor\n",
    ">    3. No se pueden usar nombres reservados del lenguaje como print o input\n",
    ">    4. Son sensible a mayúscula y minúscula, por ejemplo a ≠ A, estatura ≠ Estatura \n",
    "\n",
    "Y adicionalmente vimos que una recomendación es usar nombres mnemotécnicos.\n",
    "\n",
    "Sin embargo, dependiendo de la complejidad de los programas, a veces usar esos nombres mnemotécnicos no es tan sencillo, sobre todo cuando contienen más de una palabra. Para estos casos, y sabiendo que no se puede usar espacios en blanco, dos de los métodos que usan más los programadores expertos son:\n",
    "\n",
    "> Snake case (método serpiente): Todas las palabras se ponen en minúscula y luego se unen entre sí con un guion bajo\n",
    "\n",
    "<br />\n",
    "\n",
    "> Camel case (método camello): Todas las palabras se ponen en minúscula excepto la primera letra y luego se unen Así por ejemplo, para usar una variable referida a la “sumatoria de divisores pares”, en método serpiente sería sumatoria_de_divisores_pares y en método camello SumatoriaDeDivisoresPares.\n",
    "\n",
    "Debes hacer un programa para que, dada una variable nombrada usando el método serpiente, se traduzca a camello.\n",
    "\n",
    "__Entrada__\n",
    "\n",
    "La entrada comienza con una línea que contiene la cantidad N de nombres de variable\n",
    "(no más de 100). Luego siguen N líneas con dichos nombres.\n",
    "\n",
    "__Salida__\n",
    "\n",
    "La salida debe contener N líneas, cada una con la traducción correspondiente.<br />\n",
    "\n",
    "|Ejemplo de entrada|Ejemplo de salida|\n",
    "|-|-|\n",
    "|2 <br /> cantidad_de_usuarios <br /> porcentaje_de_ganancia_neta | CantidadDeUsuarios <br /> PorcentajeDeGananciaNeta|"
   ]
  },
  {
   "cell_type": "markdown",
   "metadata": {},
   "source": [
    "## __Solucion__"
   ]
  },
  {
   "cell_type": "code",
   "execution_count": 32,
   "metadata": {},
   "outputs": [],
   "source": [
    "def convertirSerpienteaCamello(cadena):\n",
    "    cadenaDividida = cadena.split(\"_\") # se convierte las frases a arreglos \"one_two\" a [\"one\", \"two\"]\n",
    "    valorConvertido = \"\" # se inicializa la frase convertida\n",
    "    for value in cadenaDividida:\n",
    "        #se recorre el arreglo de palabras cadenaDividida\n",
    "        if len(value): # si la frase no esta vacía\n",
    "            # se va guardando la frase convertida con el (primer caracter en mayuscula [0:1]) y el resto ([1:tamaño frase] minúscula)\n",
    "            valorConvertido += f\"{value[0:1].upper()}{value[1:len(value)].lower()}\" \n",
    "\n",
    "    print(valorConvertido) # se muestra la conversión"
   ]
  },
  {
   "cell_type": "code",
   "execution_count": 5,
   "metadata": {},
   "outputs": [],
   "source": [
    "def listaFrases(size):\n",
    "    lista = [] # se inicializa el listado vacío\n",
    "    for i in range(size):\n",
    "        # se registra y se ingresa cada una de las cadenas\n",
    "        cadena = input() \n",
    "        lista.append(cadena)\n",
    "    return lista # se devuelve la lista"
   ]
  },
  {
   "cell_type": "code",
   "execution_count": 27,
   "metadata": {},
   "outputs": [],
   "source": [
    "def main():\n",
    "    # se registra el listado de palabras en formato serpiente \n",
    "    # después de ingresar el numero de frases\n",
    "    lista = listaFrases(int(input())); \n",
    "    for cadena in lista:\n",
    "        # se recorre el listado de frases\n",
    "        convertirSerpienteaCamello(cadena) # se convierte cada frase a camello"
   ]
  },
  {
   "cell_type": "code",
   "execution_count": 33,
   "metadata": {},
   "outputs": [
    {
     "name": "stdout",
     "output_type": "stream",
     "text": [
      "RafaelMadrid14\n"
     ]
    }
   ],
   "source": [
    "main()"
   ]
  }
 ],
 "metadata": {
  "kernelspec": {
   "display_name": "Python 3",
   "language": "python",
   "name": "python3"
  },
  "language_info": {
   "codemirror_mode": {
    "name": "ipython",
    "version": 3
   },
   "file_extension": ".py",
   "mimetype": "text/x-python",
   "name": "python",
   "nbconvert_exporter": "python",
   "pygments_lexer": "ipython3",
   "version": "3.11.0"
  },
  "orig_nbformat": 4
 },
 "nbformat": 4,
 "nbformat_minor": 2
}
