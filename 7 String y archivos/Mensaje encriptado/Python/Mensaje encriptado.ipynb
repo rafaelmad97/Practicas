{
 "cells": [
  {
   "cell_type": "code",
   "execution_count": 1,
   "metadata": {},
   "outputs": [],
   "source": [
    "def leerArchivo ():\n",
    "    try: # intento\n",
    "        contenido = open(\"mensaje.txt\", \"r\") # leer el archivo \"mensaje.txt\"\n",
    "        for mensaje in contenido:\n",
    "            # se recorre el contenido del archivo\n",
    "            print(mensaje.strip(\"\\n\")[::-1]) # se quitan los saltos de linea con strip() y con el [::-1] se escriba volteado y se pinta\n",
    "    except: # fallo algo puede ser que el archivo no exista\n",
    "        print(\"el archivo no existe\")\n"
   ]
  },
  {
   "cell_type": "code",
   "execution_count": 2,
   "metadata": {},
   "outputs": [
    {
     "name": "stdout",
     "output_type": "stream",
     "text": [
      "odnuM aloH\n",
      "asaC\n"
     ]
    }
   ],
   "source": [
    "leerArchivo()"
   ]
  }
 ],
 "metadata": {
  "kernelspec": {
   "display_name": "Python 3",
   "language": "python",
   "name": "python3"
  },
  "language_info": {
   "codemirror_mode": {
    "name": "ipython",
    "version": 3
   },
   "file_extension": ".py",
   "mimetype": "text/x-python",
   "name": "python",
   "nbconvert_exporter": "python",
   "pygments_lexer": "ipython3",
   "version": "3.9.6"
  },
  "orig_nbformat": 4
 },
 "nbformat": 4,
 "nbformat_minor": 2
}
