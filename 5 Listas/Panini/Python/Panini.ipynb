{
 "cells": [
  {
   "cell_type": "markdown",
   "metadata": {},
   "source": [
    "## __Álbum Panini__\n",
    "Cuando se acerca un mundial de fútbol muchas personas le prestan más atención al\n",
    "famoso álbum que al mundial como tal.\n",
    "Para dar un poco de historia, el grupo Panini es una editorial italiana fundada en el año\n",
    "\n",
    "1961 por los hermanos Benito, Giuseppe, Umberto y Franco Panini. Además del\n",
    "departamento de colecciones (álbumes de cromos, trading cards, etc.) también tienen\n",
    "una línea de cómics bajo una licencia de Marvel en gran parte de Europa, así como una\n",
    "licencia con DC en países como Alemania, Brasil o Reino Unido. También tienen una\n",
    "línea de libros que incluye libros infantiles, cuadernos para colorear e incluso cuadernos\n",
    "de Hentai.\n",
    "\n",
    "Volviendo al tema del álbum del mundial, resulta que Federico es un fanático\n",
    "empedernido. Para el caso del mundial Rusia 2018 presumía de tener miles de cromos\n",
    "(laminitas). El problema es que nunca las organizó y en realidad no sabe cuántas\n",
    "diferentes tiene. Si cada cromo se identifica por un número entero único entre 1 y 682,\n",
    "¿le ayudarías con esta tarea?\n",
    "\n",
    "__Entrada__\n",
    "\n",
    "La entrada contiene una serie de líneas (por lo menos dos y no más de 100000), cada\n",
    "una con un valor entero positivo correspondiente al número del cromo y termina con un\n",
    "valor de 0 que no corresponde a un cromo.\n",
    "\n",
    "__Salida__\n",
    "\n",
    "Una única línea con la cantidad de cromos diferentes\n",
    "\n",
    "|Ejemplo de Entrada|Ejemplo de Salida|\n",
    "|-|-|\n",
    "|21 <br />47 <br />35 <br />658 <br />47 <br />1 <br />100 <br />9 <br />35 <br />47 <br />0|7|"
   ]
  },
  {
   "cell_type": "markdown",
   "metadata": {},
   "source": [
    "## __Solución__\n",
    "\n",
    "El programador asignado ha decidido plantearse el reto de hacer la función de verificar cuantas laminas Panini no hay repetidas sin requerir funciones de ordenamiento o de filtrado. La única lógica que implementará es que compare los valores usando un solo ciclo para iterar el listado de láminas."
   ]
  },
  {
   "cell_type": "code",
   "execution_count": 172,
   "metadata": {},
   "outputs": [],
   "source": [
    "def Panini(laminas):\n",
    "    laminasRepetidas = i = aux= 0 # se definen los valores en 0\n",
    "    while i < len(laminas):\n",
    "        # se recorren las laminas\n",
    "        if i != aux: # es i(posición) distinto a aux(posición auxiliar) \n",
    "            # para que no se comparen elementos con la misma posición\n",
    "            # el valor que esta en i y aux son iguales?\n",
    "            if laminas[i] == laminas[aux]:\n",
    "                 # solo se suma 0.5 ya que pueden encontrar  a([i]==[aux])=0.5 y b([aux]==[i])=0.5 \n",
    "                 # si hay 1 repetidos serian dos posiciones validas (0.5+0.5) = 1\n",
    "                laminasRepetidas +=0.5\n",
    "        i+=1 # se incrementa i (posición)\n",
    "        # si i == cantidad de paninis y el aux es menor a la (cantidad de paininis - 1)\n",
    "        if i == len(laminas) and aux < len(laminas)-1:\n",
    "            # incrementa el auxiliar \n",
    "            aux+=1\n",
    "            # se resetea i (posición) para volver a recorrer el listado\n",
    "            i=0\n",
    "    # se retorna el numero de paninis - laminas repetidas para saber los paninis únicos\n",
    "    return int(len(laminas) - laminasRepetidas)"
   ]
  },
  {
   "cell_type": "code",
   "execution_count": 173,
   "metadata": {},
   "outputs": [],
   "source": [
    "def agregarLaminas():\n",
    "    laminas = [] # se inicializa el listado vacío\n",
    "    lamina = 1; # se inicializa un valor valido para un panini\n",
    "    while lamina > 0:\n",
    "        # se van agregar paninis mientras que no sea el numero 0\n",
    "        lamina = int(input())\n",
    "        # se ingresa y se guarda el panini\n",
    "        laminas.append(lamina)\n",
    "    return laminas # se retorna el listado"
   ]
  },
  {
   "cell_type": "code",
   "execution_count": 174,
   "metadata": {},
   "outputs": [],
   "source": [
    "def main():\n",
    "    laminas = agregarLaminas() # Se registra el listado de paninis\n",
    "    print(laminas) # se muestra el listado de paninis\n",
    "    print(Panini(laminas)) # se muestra el resultado de paninis no repetidos"
   ]
  },
  {
   "cell_type": "code",
   "execution_count": 176,
   "metadata": {},
   "outputs": [
    {
     "name": "stdout",
     "output_type": "stream",
     "text": [
      "[21, 47, 35, 638, 47, 1, 100, 9, 35, 47, 0]\n",
      "7\n"
     ]
    }
   ],
   "source": [
    "main()"
   ]
  }
 ],
 "metadata": {
  "kernelspec": {
   "display_name": "Python 3",
   "language": "python",
   "name": "python3"
  },
  "language_info": {
   "codemirror_mode": {
    "name": "ipython",
    "version": 3
   },
   "file_extension": ".py",
   "mimetype": "text/x-python",
   "name": "python",
   "nbconvert_exporter": "python",
   "pygments_lexer": "ipython3",
   "version": "3.11.0"
  },
  "orig_nbformat": 4
 },
 "nbformat": 4,
 "nbformat_minor": 2
}
