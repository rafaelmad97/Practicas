{
 "cells": [
  {
   "cell_type": "markdown",
   "metadata": {},
   "source": [
    "## Área total\n",
    "\n",
    "¿Recuerdan a Fernando el del lote con forma de diamante? Bueno, pues resulta que su hermana Fernanda también quiere entrar al negocio de los bienes raíces y también tiene un gusto particular. Ella quiere comprar una serie de lotes, cada uno justo al lado de otro. Quiere además que todos tengan una forma perfectamente cuadrada y que, la longitud\n",
    "del lado de cada lote sea una cantidad fija mayor que el del lote inmediatamente anterior\n",
    "la izquierda.\n",
    "\n",
    "![Fig 1](imagen1.png)\n",
    "\n",
    "¿Podrías ayudarle a Fernanda a determinar el área total?\n",
    "\n",
    "__Entrada__\n",
    "\n",
    "La entrada contiene tres líneas. La primera contiene la cantidad de lotes, la segunda\n",
    "longitud (en metros) de uno de los lados del lote más pequeño, y la tercera el incremento\n",
    "de longitud (también en metros) de cada lado entre un lote y el siguiente.\n",
    "\n",
    "__Salida__\n",
    "\n",
    "El mensaje (sin comillas ni tildes): 'El area total es de X metros cuadrados', donde X\n",
    "corresponde al valor que debes calcular\n",
    "\n",
    "|Ejemplos de entrada| Ejemplos de salida|\n",
    "|-------------------|-------------------|\n",
    "|4 <br/> 10.0 <br /> 2.0 | *El area total es de 696.0 metros cuadrados* |\n",
    "|3 <br /> 20.2 <br/> 5.4 | *El area total es de 2024.4 metros cuadrados* |"
   ]
  },
  {
   "cell_type": "markdown",
   "metadata": {},
   "source": []
  },
  {
   "cell_type": "markdown",
   "metadata": {},
   "source": [
    "## Solucion"
   ]
  },
  {
   "cell_type": "code",
   "execution_count": 3,
   "metadata": {},
   "outputs": [],
   "source": [
    "def calcularArea(nLotes, valorMin, incremento):\n",
    "    areaTotal = iteraciones= controlIncremento = 0\n",
    "    while iteraciones < nLotes:\n",
    "        areaTotal += (valorMin+controlIncremento) * (valorMin+controlIncremento)\n",
    "        controlIncremento+= incremento\n",
    "        iteraciones += 1\n",
    "    return areaTotal"
   ]
  },
  {
   "cell_type": "code",
   "execution_count": 2,
   "metadata": {},
   "outputs": [],
   "source": [
    "def main():\n",
    "    nLotes =  int(input())\n",
    "    valorMin =  float(input())\n",
    "    incremento = float(input())\n",
    "    print(f\"El area total es de {calcularArea(nLotes,valorMin,incremento)} metros cuadrados.\")"
   ]
  },
  {
   "cell_type": "code",
   "execution_count": 4,
   "metadata": {},
   "outputs": [
    {
     "name": "stdout",
     "output_type": "stream",
     "text": [
      "El area total es de 16600.0 metros cuadrados.\n"
     ]
    }
   ],
   "source": [
    "main()"
   ]
  }
 ],
 "metadata": {
  "kernelspec": {
   "display_name": "Python 3",
   "language": "python",
   "name": "python3"
  },
  "language_info": {
   "codemirror_mode": {
    "name": "ipython",
    "version": 3
   },
   "file_extension": ".py",
   "mimetype": "text/x-python",
   "name": "python",
   "nbconvert_exporter": "python",
   "pygments_lexer": "ipython3",
   "version": "3.9.6"
  },
  "orig_nbformat": 4
 },
 "nbformat": 4,
 "nbformat_minor": 2
}
