{
 "cells": [
  {
   "cell_type": "markdown",
   "metadata": {},
   "source": [
    "## Enredo en el DANE\n",
    "Supongamos que, en algún momento de la historia, el Departamento Administrativo Nacional de Estadística (DANE) mantenía el registro diario de la cantidad promedio de nacimientos desde el inicio del año hasta cada fecha. Aunque a primera vista parece una buena manera de almacenar la información, cada que se necesitaba saber la cantidad exacta de nacimientos en un día especifico, algún desafortunado empleado tenía que ponerse a hacer cuentas para conocerla.\n",
    "\n",
    "¿Le ayudarías al DANE haciendo un programa para que, dados esos valores diarios de los promedios se muestre la cantidad diaria de nacimientos?\n",
    "\n",
    "Así por ejemplo si se tiene que la cantidad promedio de nacimientos para los cinco primeros días del año fue: 10, 12, 12, 13, y 12.6 fue porque la cantidad diaria de nacimientos para esas fechas fue de 10, 14, 12, 16 y 11.\n",
    "\n",
    "__Entrada__\n",
    "\n",
    "La entrada comienza con una línea que contiene un valor entero N que corresponde a la cantidad de días de los que se tienen registros (siempre se empieza el primero de enero y no serán más de 365). Luego siguen N líneas con cada uno de los promedios diarios. Se garantiza que dichos valores son tales que la cantidad diaria de nacimientos son valores enteros.\n",
    "\n",
    "__Salida__\n",
    "\n",
    "\n",
    "La salida contiene N líneas con los valores enteros positivos que corresponden a la cantidad diaria de nacimientos.\n",
    "\n",
    "| Ejemplo de entrada | Ejemplo de salida|\n",
    "|-|-|\n",
    "|6 <br /> 20.0 <br /> 21.5 <br /> 21.0 <br />21.75 <br /> 22.4 <br />22.5 | 20 <br /> 23 <br /> 20 <br /> 24 <br /> 25 <br /> 23 |"
   ]
  },
  {
   "cell_type": "code",
   "execution_count": 1,
   "metadata": {},
   "outputs": [],
   "source": [
    "def calcularPromedios(lista):\n",
    "    promedioControl = 0 # iniciamos el promedio de control con 0\n",
    "    for i in range(len(lista)): #recorremos los items de la lista de promedios(lista)\n",
    "        # definimos que el valor de cada promedio es el valor X el dia -  el promedio de control\n",
    "        valor= lista[i]*(i+1) - promedioControl \n",
    "        print(f\"{int(valor)}\") # se muestra el valor\n",
    "        promedioControl += valor # se incrementa el promedio de control sumando el valor calculado x iteración"
   ]
  },
  {
   "cell_type": "code",
   "execution_count": 2,
   "metadata": {},
   "outputs": [],
   "source": [
    "def llenarRegistros(size):\n",
    "    lista = [] # iniciamos las listas\n",
    "    for i in range(size): # ciclo que va desde 0 hasta el numero de días definido (size)\n",
    "        lista.append(float(input())) # almacenamos el promedio de ese dia con un numero tipo float\n",
    "    return lista # retornamos la lista"
   ]
  },
  {
   "cell_type": "code",
   "execution_count": 3,
   "metadata": {},
   "outputs": [],
   "source": [
    "def main():\n",
    "    nDias = 366 # se inicializa el numero de días con un numero que permita el inicio del ciclo\n",
    "    while(nDias > 365):\n",
    "        # mientras el numero de días excede los 365 días seguirá pidiendo un valor valido\n",
    "        nDias=int(input(\"Ingrese numero de días\")) # se define el numero de días\n",
    "        if(nDias > 365): # valor no valido?\n",
    "            print(\"La cantidad de días no pueden superar los 365\") # informo que hay un error\n",
    "    lista = llenarRegistros(nDias) # mediante la función llenarRegistros guardo los datos\n",
    "    calcularPromedios(lista) # calculamos los promedios\n",
    "    "
   ]
  },
  {
   "cell_type": "code",
   "execution_count": 5,
   "metadata": {},
   "outputs": [
    {
     "name": "stdout",
     "output_type": "stream",
     "text": [
      "20\n",
      "23\n",
      "20\n",
      "24\n",
      "25\n",
      "23\n"
     ]
    }
   ],
   "source": [
    "main()"
   ]
  }
 ],
 "metadata": {
  "kernelspec": {
   "display_name": "Python 3",
   "language": "python",
   "name": "python3"
  },
  "language_info": {
   "codemirror_mode": {
    "name": "ipython",
    "version": 3
   },
   "file_extension": ".py",
   "mimetype": "text/x-python",
   "name": "python",
   "nbconvert_exporter": "python",
   "pygments_lexer": "ipython3",
   "version": "3.9.6"
  },
  "orig_nbformat": 4
 },
 "nbformat": 4,
 "nbformat_minor": 2
}
