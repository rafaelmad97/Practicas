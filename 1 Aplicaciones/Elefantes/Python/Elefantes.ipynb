{
 "cells": [
  {
   "cell_type": "markdown",
   "metadata": {},
   "source": [
    "## Un elefante se balanceaba\n",
    "\n",
    "*Un elefante se balanceaba* <br />\n",
    "*sobre la tela de una araña,* <br />\n",
    "*como veía que resistía* <br />\n",
    "*fue a llamar a otro elefante.* <br />\n",
    "*Dos elefantes se balanceaban,* <br />\n",
    "*sobre la tela de una araña,* <br />\n",
    "*como veían que resistía* <br />\n",
    "*fueron a llamar a otro elefante.* <br />\n",
    "*Tres elefantes se balanceaban ...* <br />\n",
    "\n",
    "Todos conocemos la canción infantil pero el interrogante, ya siendo un poco más adultos, es: si cada elefante tiene un peso individual y la telaraña tiene una capacidad de carga limitada ¿cuál será la cantidad máxima de elefantes que soporta antes de romperse?\n",
    "\n",
    "__Entrada__\n",
    "\n",
    "La entrada comienza con una línea que contiene un valor positivo que corresponde a la\n",
    "capacidad máxima de carga de la telaraña en kgs. Luego sigue una línea que contiene\n",
    "un valor entero positivo N que corresponde a la cantidad de elefantes sobre los que se\n",
    "tiene datos. Luego siguen N líneas, cada una con un valor positivo correspondiente al\n",
    "peso en kgs de cada elefante.\n",
    "\n",
    "__Salida__\n",
    "\n",
    "\n",
    "La salida contiene una única línea con la cantidad máxima de elefantes que soporta la\n",
    "telaraña sin romperse considerando que los elefantes deben subirse uno a uno y en el\n",
    "orden que aparece en la entrada. Los datos de entrada garantizan que eventualmente la\n",
    "telaraña se rompe por lo que esa cantidad siempre será inferior a N.\n",
    "\n",
    "|Ejemplos de entrada|Ejemplos de salida|\n",
    "|-|-|\n",
    "| 1000.0 <br /> 5 <br /> 100.0 <br /> 200.0 <br /> 300.0 <br /> 400.0 <br /> 500.0|4|\n",
    "| 500.0 <br />3 <br />450.0 <br />350.0 <br />250.0|1|"
   ]
  },
  {
   "cell_type": "code",
   "execution_count": 20,
   "metadata": {},
   "outputs": [],
   "source": [
    "def Elefantes(resistencia):\n",
    "    elefantes = pesoAcumuladoElefante = 0 # tanto el peso que se acumula como el numero de elefantes debe ser 0\n",
    "    cantidadElefantes = int(input()) # se ingresa la cantidad maxima de elefantes\n",
    "    for e in range(cantidadElefantes): # se recorre desde 0 a la cantidad maxima de elefantes\n",
    "        pesoAcumuladoElefante += int(input()) # se auto incrementa el peso de elefante ....n con un valor n\n",
    "        if pesoAcumuladoElefante <= resistencia: # el peso acumulado es menor la resistencia\n",
    "            ## Cantemos :3\n",
    "            print(f\"{e+1} Un elefante se balanceaba sobre la tela de una araña, como veía que resistía fue a llamar a otro elefante.\")\n",
    "            elefantes += 1 # incrementamos los elefantes que están en la tela de una araña\n",
    "    print(f\"e: {elefantes}\") # mostramos la cantidad final de elefantes que estaban en la tela antes de romperse"
   ]
  },
  {
   "cell_type": "code",
   "execution_count": 14,
   "metadata": {},
   "outputs": [],
   "source": [
    "def main():\n",
    "    resistencia = int(input(\"Ingrese la resistencia\")) # Se define la resistencia de la tela de araña\n",
    "    Elefantes(resistencia) # comprobamos la resistencia"
   ]
  },
  {
   "cell_type": "code",
   "execution_count": 21,
   "metadata": {},
   "outputs": [
    {
     "name": "stdout",
     "output_type": "stream",
     "text": [
      "1 Un elefante se balanceaba sobre la tela de una araña, como veía que resistía fue a llamar a otro elefante.\n",
      "2 Un elefante se balanceaba sobre la tela de una araña, como veía que resistía fue a llamar a otro elefante.\n",
      "3 Un elefante se balanceaba sobre la tela de una araña, como veía que resistía fue a llamar a otro elefante.\n",
      "4 Un elefante se balanceaba sobre la tela de una araña, como veía que resistía fue a llamar a otro elefante.\n",
      "e: 4\n"
     ]
    }
   ],
   "source": [
    "main()"
   ]
  }
 ],
 "metadata": {
  "kernelspec": {
   "display_name": "Python 3",
   "language": "python",
   "name": "python3"
  },
  "language_info": {
   "codemirror_mode": {
    "name": "ipython",
    "version": 3
   },
   "file_extension": ".py",
   "mimetype": "text/x-python",
   "name": "python",
   "nbconvert_exporter": "python",
   "pygments_lexer": "ipython3",
   "version": "3.11.0"
  },
  "orig_nbformat": 4
 },
 "nbformat": 4,
 "nbformat_minor": 2
}
