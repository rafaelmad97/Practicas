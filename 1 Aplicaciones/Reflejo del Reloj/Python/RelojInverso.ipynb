{
 "cells": [
  {
   "attachments": {},
   "cell_type": "markdown",
   "metadata": {},
   "source": [
    "## __Reflejo del Reloj__\n",
    "\n",
    "Adrián no tiene un reloj en su habitación, por lo que cuando necesita ver la hora sin tener que desplazarse lo hace mirando el que está en la sala,pero por medio de un espejo que está en el corredor. El problema es que a veces se le olvida que lo que está viendo es un reflejo y que tiene que hacerla “conversión” correspondiente. Así, por ejemplo, si en el espejo ve las 2:48, es porque en realidad son las 9:14.\n",
    "\n",
    "Ayúdale a Adrián haciendo un programa para convertirla hora reflejada en la hora real.\n",
    "\n",
    "![Fig 1](imagen1.jpg)\n",
    "\n",
    "__Entrada:__ \n",
    "\n",
    "La entrada contiene dos líneas, la primera con un valor entero entre 1 y 12 para las horas que se ven en el espejo y la segunda con un valor j entero entre O y 59 para los minutos.\n",
    "\n",
    "__Salida:__ \n",
    "\n",
    "La hora correcta correspondiente en formato horas:minutos. Ten en cuenta que no es necesario anteceder 0 cuando alguno de los dos elementos es menor que 10, es decir, una salida como 3:7 es correcta y no se debe convertirá 3:07.\n",
    "\n"
   ]
  },
  {
   "cell_type": "markdown",
   "metadata": {},
   "source": [
    "## __Solución__\n",
    "\n",
    "para desarrollar la conversion de la hora se creó un método llamado convertirHoraReflejada la cual recibe la hora vista en el reflejo en dos parametros. Uno llamado __horas__ y el segundo llamado __minutos__ "
   ]
  },
  {
   "cell_type": "code",
   "execution_count": 2,
   "metadata": {},
   "outputs": [],
   "source": [
    "def convertirHoraReflejada(horas,minutos):\n",
    "    hora_real = minuto_real = 0 # empezamos con una la hora 0 y el minuto 0\n",
    "    if minutos == 00:\n",
    "        #si los minutos ingresados son cero la hora real indica las 12\n",
    "        hora_real = 12\n",
    "    else:\n",
    "        #de no serlo dividimos los minutos los dividimos sobre 5 para obtener las 12 horas del reloj\n",
    "        hora_real = minutos // 5 \n",
    "    if horas == 12:\n",
    "        #si las horas indican las 12 entonces los minutos empiezan a contar desde 00\n",
    "        minuto_real = 00\n",
    "    else:\n",
    "        #si no realizamos una multiplicación para saber si el indicador de las horas indican en el 2 entonces han pasado 10 minutos\n",
    "        minuto_real = horas * 5\n",
    "        if minutos % 5 != 0:\n",
    "            #si en los minutos ingresados no son múltiplos de 5\n",
    "            minuto_real += minutos%5 + 1 # añadimos el residuo de los minutos ingresados y se adicionamos un minuto mas de ñapa\n",
    "    #dibujamos la hora mas aproximada a la que deberia ser al verse reflejada en el espejo\n",
    "    print(f\"hora reflejada ingresada -> hrs: {horas}:{minutos} \\n hora real convertida -> hrs: {hora_real} : mins {minuto_real}\")\n"
   ]
  },
  {
   "cell_type": "code",
   "execution_count": 3,
   "metadata": {},
   "outputs": [
    {
     "name": "stdout",
     "output_type": "stream",
     "text": [
      "hora reflejada ingresada -> hrs: 12:0 \n",
      " hora real convertida -> hrs: 12 : mins 0\n",
      "hora reflejada ingresada -> hrs: 12:30 \n",
      " hora real convertida -> hrs: 6 : mins 0\n",
      "hora reflejada ingresada -> hrs: 6:0 \n",
      " hora real convertida -> hrs: 12 : mins 30\n",
      "hora reflejada ingresada -> hrs: 6:30 \n",
      " hora real convertida -> hrs: 6 : mins 30\n",
      "hora reflejada ingresada -> hrs: 2:48 \n",
      " hora real convertida -> hrs: 9 : mins 14\n",
      "hora reflejada ingresada -> hrs: 6:42 \n",
      " hora real convertida -> hrs: 8 : mins 33\n"
     ]
    }
   ],
   "source": [
    "convertirHoraReflejada(12,00) # ingresamos horas que se visualizan en el reflejo del espejo\n",
    "convertirHoraReflejada(12,30) # ingresamos horas que se visualizan en el reflejo del espejo\n",
    "convertirHoraReflejada(6,00) # ingresamos horas que se visualizan en el reflejo del espejo\n",
    "convertirHoraReflejada(6,30) # ingresamos horas que se visualizan en el reflejo del espejo\n",
    "convertirHoraReflejada(2,48) # ingresamos horas que se visualizan en el reflejo del espejo\n",
    "convertirHoraReflejada(6,42) # ingresamos horas que se visualizan en el reflejo del espejo\n",
    "\n",
    "\n",
    "\n",
    "\n",
    "\n",
    "\n",
    "\n"
   ]
  }
 ],
 "metadata": {
  "kernelspec": {
   "display_name": "Python 3",
   "language": "python",
   "name": "python3"
  },
  "language_info": {
   "codemirror_mode": {
    "name": "ipython",
    "version": 3
   },
   "file_extension": ".py",
   "mimetype": "text/x-python",
   "name": "python",
   "nbconvert_exporter": "python",
   "pygments_lexer": "ipython3",
   "version": "3.11.4"
  },
  "orig_nbformat": 4
 },
 "nbformat": 4,
 "nbformat_minor": 2
}
