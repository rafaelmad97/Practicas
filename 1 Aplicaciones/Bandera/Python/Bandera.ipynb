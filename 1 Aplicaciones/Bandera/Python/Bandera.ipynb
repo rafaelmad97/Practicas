{
 "cells": [
  {
   "cell_type": "markdown",
   "metadata": {},
   "source": [
    "### _Bandera Inglesa_\n",
    "\n",
    "Muchas personas confunden la bandera de Inglaterra con la bandera del Reino Unido. Bueno, siendo honestos, muchos ni saben (o sabemos) que el Reino Unido, o más específicamente al Reino Unido de Gran Bretaña e Irlanda del Norte lo componen las regiones de Inglaterra, Escocia, Gales e Irlanda del Norte. Otro hecho poco conocido es que la bandera de ese Reino Unido, oficialmente denominada Union Flag pero más conocida como la Union Jack, es una combinación de las cruces de los santos patronos de Inglaterra, de Escocia y de Irlanda del Norte. \n",
    "\n",
    "![Fuente https://commons.wikimedia.org/wiki/File:Banderas_de_la_Union_Jack.PNG](imagen1.png)\n",
    "\n",
    "Dejando la clase de geografía de lado, resulta que a Miguel le encanta dibujar la bandera de Inglaterra pero, siendo programador, lo hace mediante Python. Por simplicidad, utiliza para “dibujarlas” únicamente los caracteres ‘0’ y ‘+’, y considera solamente banderas con un largo L (cantidad de caracteres horizontales) y un alto H (cantidad de caracteres verticales) siendo ambos valores impares mayores a 2 y menores a 20. Así por ejemplo, una bandera de dimensión 7x5 la dibujará como:\n",
    "\n",
    "__0 0 0 + 0 0 0__\n",
    "\\\n",
    "__0 0 0 + 0 0 0__\n",
    "\\\n",
    "__+++ + +++__\n",
    "\\\n",
    "__0 0 0 + 0 0 0__\n",
    "\\\n",
    "__0 0 0 + 0 0 0__\n",
    "\n",
    "\n",
    "¿Harías un programa como el de Miguel?\n",
    "\n",
    "__Entrada__\n",
    "\n",
    "La entrada contiene dos líneas, la primera con el valor de *L* y la otra con el valor de *H*.\n",
    "\n",
    "__Salida__\n",
    "\n",
    "La salida debe “dibujar” la bandera según las indicaciones.\n",
    "\n",
    "|__Ejemplos de entrada__|__Ejemplos de salida__|\n",
    "|---------------------|---------------------------------------------------------------|\n",
    "| 3<br>3              | __0 + 0__<br>__+ + +__<br>__0 + 0__                                             |\n",
    "| 9<br>5              | __0 0 0 0 + 0 0  0 0__<br>__0 0 0 0 + 0 0 0 0__ <br>__++++ + ++++__<br>__0 0 0 0 + 0 0 0 0__<br>__0 0 0 0 + 0 0 0 0__ |"
   ]
  },
  {
   "cell_type": "markdown",
   "metadata": {},
   "source": [
    "### __Solución__\n",
    "\n",
    "Generamos un método para generar la bandera, donde se reciben los tamaños (*largo* y *ancho*) de la misma por parámetro.\n",
    "\n",
    "> se realizaron comentarios explicando pasos del metodo __generarBandera()__"
   ]
  },
  {
   "cell_type": "code",
   "execution_count": 3,
   "metadata": {},
   "outputs": [],
   "source": [
    "def generarBandera(sizey,sizex):\n",
    "    # Se inicializan las variables de control para el ciclo\n",
    "    x = y = 0\n",
    "    # Se incializa una variable bandera la cual almacenará el lienzo de la bandera\n",
    "    bandera = \"\"\n",
    "    # se prosigue a obtener los puntos medios para dibujar los caracteres que arman las cruz\n",
    "    midx = sizex//2\n",
    "    midy = sizey//2\n",
    "    while x < sizex and y < sizey:\n",
    "        #mientras que las variables de control sean menores a el largo y ancho sigue iterando\n",
    "        if x == midx or y == midy: \n",
    "            #si la variables de control x ó y sean iguales a los puntos medios dibuja la el carácter que conforma la cruz\n",
    "            bandera += \" + \"\n",
    "        else:\n",
    "            # si no dibuja el cuerpo de la bandera\n",
    "            bandera += \" 0 \"\n",
    "        #realiza un incremento hacia lo largo en una de las variables de control\n",
    "        x+=+1\n",
    "        if x == sizex:\n",
    "            #si llegas a el tope maximo del largo\n",
    "            bandera += \"\\n\"\n",
    "            #agrega salto de linea\n",
    "            x=0\n",
    "            #regresa el inicio de la bandera\n",
    "            y+=+1\n",
    "            #bajas una casilla de la bandera realizando un incremento en la otra variable de control\n",
    "    #devuelveme el valor de la bandera\n",
    "    return bandera "
   ]
  },
  {
   "cell_type": "markdown",
   "metadata": {},
   "source": [
    "Se genera un metodo main que sirve como interfaz grafica donde pedimos y validamos los valores ingresados."
   ]
  },
  {
   "cell_type": "code",
   "execution_count": 4,
   "metadata": {},
   "outputs": [
    {
     "name": "stdout",
     "output_type": "stream",
     "text": [
      "Ingrese el x tamaño de la bandera\n",
      "Ingrese el y tamaño de la bandera\n",
      "\n",
      "\n",
      "x=9 y=9\n",
      "\n",
      " 0  0  0  0  +  0  0  0  0 \n",
      " 0  0  0  0  +  0  0  0  0 \n",
      " 0  0  0  0  +  0  0  0  0 \n",
      " 0  0  0  0  +  0  0  0  0 \n",
      " +  +  +  +  +  +  +  +  + \n",
      " 0  0  0  0  +  0  0  0  0 \n",
      " 0  0  0  0  +  0  0  0  0 \n",
      " 0  0  0  0  +  0  0  0  0 \n",
      " 0  0  0  0  +  0  0  0  0 \n",
      "\n"
     ]
    }
   ],
   "source": [
    "def main():\n",
    "    size_x = size_y = 0 # se supone que los valores del largo y el ancho son cero\n",
    "    x = y = False  # se supone que los valores del largo y el ancho son incorrectos\n",
    "    while size_x % 2 == 0 or size_y % 2 == 0:\n",
    "        #itera mientras que los valores del largo y el ancho sean impares \n",
    "        if x == False :\n",
    "            #parece que el valor de ancho lo debes reescribir\n",
    "            print(\"Ingrese el x tamaño de la bandera\")\n",
    "            size_x = int(input())\n",
    "        if y == False:\n",
    "            #parece que el valor de largo lo debes reescribir\n",
    "            print(\"Ingrese el y tamaño de la bandera\")\n",
    "            size_y = int(input())\n",
    "        \n",
    "        y = size_y % 2 != 0 and size_y < 200 and size_y > 0 #validamos que el valor del \"largo\" esté \"correcto\"\n",
    "        \n",
    "        x = size_x % 2 != 0 and size_x < 200 and size_x > 0 #validamos que el valor del \"ancho\" esté \"correcto\"\n",
    "\n",
    "        if x and y:\n",
    "            #los valores del largo están buenos\n",
    "            break #te libro de la cadena de odio de iterar\n",
    "        else:\n",
    "            #vuelve a intentarlo me dijo coca cola en sus latas\n",
    "            print(\"el valor debe ser impar, no debe exceder a 200 y debe ser mayor a cero\")\n",
    "    print(\"\\n\")# hago un salto de linea para indicar que todo lo de arriba ya dejo de ejecutarse\n",
    "    print(f\"x={size_x} y={size_y}\\n\") #muestro los valores que pasaron el filtro\n",
    "\n",
    "    print(generarBandera(size_y,size_x)) #dibujame la bandera\n",
    "\n",
    "main()"
   ]
  }
 ],
 "metadata": {
  "kernelspec": {
   "display_name": "Python 3",
   "language": "python",
   "name": "python3"
  },
  "language_info": {
   "codemirror_mode": {
    "name": "ipython",
    "version": 3
   },
   "file_extension": ".py",
   "mimetype": "text/x-python",
   "name": "python",
   "nbconvert_exporter": "python",
   "pygments_lexer": "ipython3",
   "version": "3.9.6"
  }
 },
 "nbformat": 4,
 "nbformat_minor": 2
}
