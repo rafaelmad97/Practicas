{
 "cells": [
  {
   "cell_type": "markdown",
   "metadata": {},
   "source": [
    "## División salomónica\n",
    "\n",
    "Según Wikipedia, se habla así de una “decisión salomónica” cuando se busca la solución sabia y justa entre dos posturas, recordando que según la fábula bíblica el Rey Salomón, al decidir sobre la maternidad de un hijo, dictaminó que cada una de las mujeres que la reclamaban se quedara con una mitad del mismo, a lo que una de las mujeres se opuso y fue ese el momento en que Salomón comprendió que esa era la verdadera madre. \n",
    "\n",
    "Sin embargo, en la cultura popular ha quedado más bien el significado de “decisión salomónica” como una solución equidistante, pese a que en realidad esa sólo fue la trampa que puso Salomón a las madres, no el veredicto definitivo. Con eso en mente, supongamos que un conjunto de personas está reclamando la propiedad sobre una cantidad de dinero $X pesos. En este caso un juez ha decidido asignarle la propiedad de la mitad de X a la persona que tenga la prueba más contundente. Luego, de la mitad restante le asigna la mitad a la persona que tenga la segunda prueba más contundente, y así sucesivamente hasta que lo que quede por “repartir” sea inferior a $10 pesos. \n",
    "\n",
    "Ese valor restante inferior a $10 pesos no se le da a ninguno de los reclamantes sino que queda como la retribución que se le paga al juzgado. Así por ejemplo, si X es $512, la persona con la prueba más contundente recibe $256, la persona con la segunda prueba más contundente recibe $128, la tercera $64, la cuarta $32, la quinta $16, y la sexta $8. Los $8 restantes quedan como pago al juzgado.\n",
    "\n",
    "__Entrada__ <br/>\n",
    "La entrada contiene una única línea con un valor positivo mayor a 10 que corresponde a X.\n",
    "\n",
    "__Salida__ <br/>\n",
    "La salida contiene una única línea con la cantidad de personas a las que les toca algo\n",
    "<br/>\n",
    "\n",
    "|Ejemplos de entrada|Ejemplos de salida|\n",
    "|-------------------|------------------|\n",
    "|11.0<br />160.0<br />1048576.0|1<br />5<br />17|"
   ]
  },
  {
   "cell_type": "code",
   "execution_count": 51,
   "metadata": {},
   "outputs": [],
   "source": [
    "def divisionSalomonica(valor):\n",
    "    div = valor;  # se inicializa la variable div con el valor ingresado\n",
    "    beneficiarios = 0 # se inicializan 0 beneficiarios\n",
    "    while div > 9: # div debe ser mayor a 9 para seguir con el ciclo\n",
    "        div = div/2 # se reescribe div con el valor de el mismo divido entre 2\n",
    "        beneficiarios += 1 # se incrementa el numero de beneficiarios x iteración\n",
    "    return beneficiarios # retornamos el numero de beneficiarios totales"
   ]
  },
  {
   "cell_type": "code",
   "execution_count": 53,
   "metadata": {},
   "outputs": [],
   "source": [
    "def main():\n",
    "    valor = float(input()) # se inicializa un valor n\n",
    "    print(divisionSalomonica(valor)) # se pinta el resultado de la función divisionSalomonica"
   ]
  },
  {
   "cell_type": "code",
   "execution_count": 55,
   "metadata": {},
   "outputs": [
    {
     "name": "stdout",
     "output_type": "stream",
     "text": [
      "17\n"
     ]
    }
   ],
   "source": [
    "main()"
   ]
  }
 ],
 "metadata": {
  "kernelspec": {
   "display_name": "Python 3",
   "language": "python",
   "name": "python3"
  },
  "language_info": {
   "codemirror_mode": {
    "name": "ipython",
    "version": 3
   },
   "file_extension": ".py",
   "mimetype": "text/x-python",
   "name": "python",
   "nbconvert_exporter": "python",
   "pygments_lexer": "ipython3",
   "version": "3.11.0"
  },
  "orig_nbformat": 4
 },
 "nbformat": 4,
 "nbformat_minor": 2
}
